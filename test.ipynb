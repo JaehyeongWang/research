{
 "cells": [
  {
   "cell_type": "code",
   "execution_count": 2,
   "metadata": {},
   "outputs": [],
   "source": [
    "from tensorflow.keras.datasets import reuters\n",
    "from tensorflow.keras.models import Sequential, load_model\n",
    "from tensorflow.keras.layers import Dense, LSTM, Embedding\n",
    "from tensorflow.keras.preprocessing.sequence import pad_sequences\n",
    "from tensorflow.keras.utils import to_categorical\n",
    "from tensorflow.keras.callbacks import EarlyStopping, ModelCheckpoint\n",
    "import numpy as np\n",
    "import pandas as pd"
   ]
  },
  {
   "cell_type": "code",
   "execution_count": 3,
   "metadata": {},
   "outputs": [],
   "source": [
    "(X_train, Y_train), (X_test, Y_test) = reuters.load_data(num_words=100)"
   ]
  },
  {
   "cell_type": "code",
   "execution_count": 4,
   "metadata": {},
   "outputs": [
    {
     "data": {
      "text/plain": [
       "array([list([1, 2, 2, 8, 43, 10, 2, 5, 25, 2, 2, 5, 2, 2, 16, 2, 2, 90, 67, 7, 89, 5, 19, 2, 6, 19, 2, 15, 90, 67, 84, 22, 2, 26, 7, 48, 4, 49, 8, 2, 39, 2, 2, 6, 2, 6, 83, 11, 15, 22, 2, 11, 15, 7, 48, 9, 2, 2, 2, 6, 2, 6, 2, 11, 15, 22, 2, 44, 11, 15, 16, 8, 2, 2, 90, 67, 52, 29, 2, 30, 32, 2, 6, 2, 15, 17, 12]),\n",
       "       list([1, 2, 2, 2, 2, 56, 2, 2, 9, 56, 2, 2, 81, 5, 2, 57, 2, 2, 2, 20, 2, 7, 2, 49, 2, 2, 2, 2, 2, 2, 8, 7, 10, 2, 16, 2, 2, 2, 2, 5, 4, 2, 2, 2, 2, 2, 7, 48, 34, 2, 44, 35, 2, 2, 17, 12]),\n",
       "       list([1, 53, 12, 2, 15, 14, 2, 26, 53, 2, 32, 2, 15, 14, 2, 26, 39, 2, 70, 11, 14, 12, 2, 18, 2, 2, 2, 70, 11, 14, 2, 32, 11, 29, 53, 44, 2, 15, 14, 19, 2, 15, 53, 2, 47, 2, 15, 14, 19, 2, 15, 39, 2, 32, 11, 14, 2, 72, 11, 2, 2, 2, 44, 11, 14, 2, 19, 11, 2, 2, 90, 67, 2, 4, 78, 13, 68, 2, 2, 2, 59, 89, 90, 67, 2, 55, 2, 92, 2, 80, 2, 46, 2, 2, 13, 4, 2, 48, 2, 2, 5, 2, 5, 2, 7, 2, 81, 5, 2, 11, 15, 9, 2, 2, 5, 47, 2, 18, 2, 2, 5, 2, 7, 2, 2, 71, 5, 2, 63, 11, 9, 2, 81, 5, 2, 59, 11, 17, 12]),\n",
       "       ...,\n",
       "       list([1, 2, 2, 2, 81, 8, 16, 2, 10, 2, 2, 2, 31, 56, 2, 2, 9, 2, 71, 9, 2, 2, 2, 2, 2, 2, 2, 2, 2, 2, 4, 49, 8, 4, 2, 2, 33, 2, 9, 2, 2, 2, 2, 9, 2, 22, 2, 2, 2, 83, 35, 15, 2, 6, 57, 2, 7, 4, 2, 2, 5, 2, 2, 2, 4, 49, 8, 16, 2, 2, 6, 2, 7, 2, 2, 17, 12]),\n",
       "       list([1, 53, 46, 2, 26, 14, 74, 2, 26, 39, 46, 2, 2, 18, 14, 74, 2, 2, 18, 88, 2, 72, 11, 14, 2, 32, 11, 2, 2, 89, 39, 46, 2, 10, 2, 2, 5, 2, 44, 11, 15, 22, 2, 9, 42, 92, 2, 2, 5, 69, 2, 11, 15, 22, 2, 2, 2, 2, 48, 39, 74, 2, 10, 2, 2, 5, 61, 32, 11, 15, 21, 4, 2, 5, 2, 2, 42, 92, 2, 46, 19, 2, 11, 15, 22, 2, 2, 9, 42, 92, 2, 2, 5, 59, 61, 11, 15, 22, 10, 2, 7, 2, 2, 2, 2, 6, 2, 2, 2, 2, 43, 2, 5, 4, 2, 2, 2, 17, 12]),\n",
       "       list([1, 2, 2, 91, 2, 2, 2, 21, 4, 2, 76, 7, 4, 2, 2, 2, 2, 2, 2, 9, 2, 2, 8, 7, 10, 76, 2, 51, 4, 2, 8, 2, 91, 2, 2, 2, 7, 2, 2, 6, 2, 21, 2, 2, 2, 2, 6, 2, 4, 2, 2, 7, 65, 87, 2, 10, 2, 2, 2, 9, 21, 2, 16, 2, 24, 4, 76, 2, 30, 2, 2, 2, 8, 4, 60, 8, 4, 2, 2, 40, 2, 2, 2, 2, 2, 2, 9, 24, 2, 2, 2, 2, 9, 4, 2, 2, 2, 2, 2, 2, 7, 4, 2, 17, 12])],\n",
       "      dtype=object)"
      ]
     },
     "execution_count": 4,
     "metadata": {},
     "output_type": "execute_result"
    }
   ],
   "source": [
    "X_train"
   ]
  },
  {
   "cell_type": "code",
   "execution_count": 5,
   "metadata": {},
   "outputs": [
    {
     "data": {
      "text/plain": [
       "224"
      ]
     },
     "execution_count": 5,
     "metadata": {},
     "output_type": "execute_result"
    }
   ],
   "source": [
    "len(X_train[3])"
   ]
  },
  {
   "cell_type": "code",
   "execution_count": 11,
   "metadata": {},
   "outputs": [
    {
     "data": {
      "text/plain": [
       "2376"
      ]
     },
     "execution_count": 11,
     "metadata": {},
     "output_type": "execute_result"
    }
   ],
   "source": [
    "temp = pad_sequences(X_train)\n",
    "len(temp[2])"
   ]
  },
  {
   "cell_type": "code",
   "execution_count": 16,
   "metadata": {},
   "outputs": [],
   "source": [
    "X_train = pad_sequences(X_train)\n",
    "X_test = pad_sequences(X_test)\n",
    "\n",
    "Y_train = to_categorical(Y_train)\n",
    "Y_test = to_categorical(Y_test)"
   ]
  },
  {
   "cell_type": "code",
   "execution_count": 17,
   "metadata": {},
   "outputs": [],
   "source": [
    "new = pd.DataFrame(X_train)"
   ]
  },
  {
   "cell_type": "code",
   "execution_count": 18,
   "metadata": {},
   "outputs": [
    {
     "data": {
      "text/html": [
       "<div>\n",
       "<style scoped>\n",
       "    .dataframe tbody tr th:only-of-type {\n",
       "        vertical-align: middle;\n",
       "    }\n",
       "\n",
       "    .dataframe tbody tr th {\n",
       "        vertical-align: top;\n",
       "    }\n",
       "\n",
       "    .dataframe thead th {\n",
       "        text-align: right;\n",
       "    }\n",
       "</style>\n",
       "<table border=\"1\" class=\"dataframe\">\n",
       "  <thead>\n",
       "    <tr style=\"text-align: right;\">\n",
       "      <th></th>\n",
       "      <th>0</th>\n",
       "      <th>1</th>\n",
       "      <th>2</th>\n",
       "      <th>3</th>\n",
       "      <th>4</th>\n",
       "      <th>5</th>\n",
       "      <th>6</th>\n",
       "      <th>7</th>\n",
       "      <th>8</th>\n",
       "      <th>9</th>\n",
       "      <th>...</th>\n",
       "      <th>2366</th>\n",
       "      <th>2367</th>\n",
       "      <th>2368</th>\n",
       "      <th>2369</th>\n",
       "      <th>2370</th>\n",
       "      <th>2371</th>\n",
       "      <th>2372</th>\n",
       "      <th>2373</th>\n",
       "      <th>2374</th>\n",
       "      <th>2375</th>\n",
       "    </tr>\n",
       "  </thead>\n",
       "  <tbody>\n",
       "    <tr>\n",
       "      <th>0</th>\n",
       "      <td>0</td>\n",
       "      <td>0</td>\n",
       "      <td>0</td>\n",
       "      <td>0</td>\n",
       "      <td>0</td>\n",
       "      <td>0</td>\n",
       "      <td>0</td>\n",
       "      <td>0</td>\n",
       "      <td>0</td>\n",
       "      <td>0</td>\n",
       "      <td>...</td>\n",
       "      <td>29</td>\n",
       "      <td>209</td>\n",
       "      <td>30</td>\n",
       "      <td>32</td>\n",
       "      <td>132</td>\n",
       "      <td>6</td>\n",
       "      <td>109</td>\n",
       "      <td>15</td>\n",
       "      <td>17</td>\n",
       "      <td>12</td>\n",
       "    </tr>\n",
       "    <tr>\n",
       "      <th>1</th>\n",
       "      <td>0</td>\n",
       "      <td>0</td>\n",
       "      <td>0</td>\n",
       "      <td>0</td>\n",
       "      <td>0</td>\n",
       "      <td>0</td>\n",
       "      <td>0</td>\n",
       "      <td>0</td>\n",
       "      <td>0</td>\n",
       "      <td>0</td>\n",
       "      <td>...</td>\n",
       "      <td>7</td>\n",
       "      <td>48</td>\n",
       "      <td>34</td>\n",
       "      <td>191</td>\n",
       "      <td>44</td>\n",
       "      <td>35</td>\n",
       "      <td>1795</td>\n",
       "      <td>505</td>\n",
       "      <td>17</td>\n",
       "      <td>12</td>\n",
       "    </tr>\n",
       "    <tr>\n",
       "      <th>2</th>\n",
       "      <td>0</td>\n",
       "      <td>0</td>\n",
       "      <td>0</td>\n",
       "      <td>0</td>\n",
       "      <td>0</td>\n",
       "      <td>0</td>\n",
       "      <td>0</td>\n",
       "      <td>0</td>\n",
       "      <td>0</td>\n",
       "      <td>0</td>\n",
       "      <td>...</td>\n",
       "      <td>11</td>\n",
       "      <td>9</td>\n",
       "      <td>26503</td>\n",
       "      <td>81</td>\n",
       "      <td>5</td>\n",
       "      <td>102</td>\n",
       "      <td>59</td>\n",
       "      <td>11</td>\n",
       "      <td>17</td>\n",
       "      <td>12</td>\n",
       "    </tr>\n",
       "    <tr>\n",
       "      <th>3</th>\n",
       "      <td>0</td>\n",
       "      <td>0</td>\n",
       "      <td>0</td>\n",
       "      <td>0</td>\n",
       "      <td>0</td>\n",
       "      <td>0</td>\n",
       "      <td>0</td>\n",
       "      <td>0</td>\n",
       "      <td>0</td>\n",
       "      <td>0</td>\n",
       "      <td>...</td>\n",
       "      <td>64</td>\n",
       "      <td>10</td>\n",
       "      <td>2281</td>\n",
       "      <td>455</td>\n",
       "      <td>5</td>\n",
       "      <td>7003</td>\n",
       "      <td>125</td>\n",
       "      <td>222</td>\n",
       "      <td>17</td>\n",
       "      <td>12</td>\n",
       "    </tr>\n",
       "    <tr>\n",
       "      <th>4</th>\n",
       "      <td>0</td>\n",
       "      <td>0</td>\n",
       "      <td>0</td>\n",
       "      <td>0</td>\n",
       "      <td>0</td>\n",
       "      <td>0</td>\n",
       "      <td>0</td>\n",
       "      <td>0</td>\n",
       "      <td>0</td>\n",
       "      <td>0</td>\n",
       "      <td>...</td>\n",
       "      <td>303</td>\n",
       "      <td>163</td>\n",
       "      <td>16</td>\n",
       "      <td>64</td>\n",
       "      <td>772</td>\n",
       "      <td>13</td>\n",
       "      <td>94</td>\n",
       "      <td>156</td>\n",
       "      <td>17</td>\n",
       "      <td>12</td>\n",
       "    </tr>\n",
       "    <tr>\n",
       "      <th>...</th>\n",
       "      <td>...</td>\n",
       "      <td>...</td>\n",
       "      <td>...</td>\n",
       "      <td>...</td>\n",
       "      <td>...</td>\n",
       "      <td>...</td>\n",
       "      <td>...</td>\n",
       "      <td>...</td>\n",
       "      <td>...</td>\n",
       "      <td>...</td>\n",
       "      <td>...</td>\n",
       "      <td>...</td>\n",
       "      <td>...</td>\n",
       "      <td>...</td>\n",
       "      <td>...</td>\n",
       "      <td>...</td>\n",
       "      <td>...</td>\n",
       "      <td>...</td>\n",
       "      <td>...</td>\n",
       "      <td>...</td>\n",
       "      <td>...</td>\n",
       "    </tr>\n",
       "    <tr>\n",
       "      <th>8977</th>\n",
       "      <td>0</td>\n",
       "      <td>0</td>\n",
       "      <td>0</td>\n",
       "      <td>0</td>\n",
       "      <td>0</td>\n",
       "      <td>0</td>\n",
       "      <td>0</td>\n",
       "      <td>0</td>\n",
       "      <td>0</td>\n",
       "      <td>0</td>\n",
       "      <td>...</td>\n",
       "      <td>1130</td>\n",
       "      <td>6</td>\n",
       "      <td>592</td>\n",
       "      <td>4</td>\n",
       "      <td>9061</td>\n",
       "      <td>3009</td>\n",
       "      <td>172</td>\n",
       "      <td>642</td>\n",
       "      <td>17</td>\n",
       "      <td>12</td>\n",
       "    </tr>\n",
       "    <tr>\n",
       "      <th>8978</th>\n",
       "      <td>0</td>\n",
       "      <td>0</td>\n",
       "      <td>0</td>\n",
       "      <td>0</td>\n",
       "      <td>0</td>\n",
       "      <td>0</td>\n",
       "      <td>0</td>\n",
       "      <td>0</td>\n",
       "      <td>0</td>\n",
       "      <td>0</td>\n",
       "      <td>...</td>\n",
       "      <td>4</td>\n",
       "      <td>99</td>\n",
       "      <td>327</td>\n",
       "      <td>5</td>\n",
       "      <td>52</td>\n",
       "      <td>29</td>\n",
       "      <td>36</td>\n",
       "      <td>8</td>\n",
       "      <td>17</td>\n",
       "      <td>12</td>\n",
       "    </tr>\n",
       "    <tr>\n",
       "      <th>8979</th>\n",
       "      <td>0</td>\n",
       "      <td>0</td>\n",
       "      <td>0</td>\n",
       "      <td>0</td>\n",
       "      <td>0</td>\n",
       "      <td>0</td>\n",
       "      <td>0</td>\n",
       "      <td>0</td>\n",
       "      <td>0</td>\n",
       "      <td>0</td>\n",
       "      <td>...</td>\n",
       "      <td>16</td>\n",
       "      <td>369</td>\n",
       "      <td>646</td>\n",
       "      <td>6</td>\n",
       "      <td>1076</td>\n",
       "      <td>7</td>\n",
       "      <td>124</td>\n",
       "      <td>407</td>\n",
       "      <td>17</td>\n",
       "      <td>12</td>\n",
       "    </tr>\n",
       "    <tr>\n",
       "      <th>8980</th>\n",
       "      <td>0</td>\n",
       "      <td>0</td>\n",
       "      <td>0</td>\n",
       "      <td>0</td>\n",
       "      <td>0</td>\n",
       "      <td>0</td>\n",
       "      <td>0</td>\n",
       "      <td>0</td>\n",
       "      <td>0</td>\n",
       "      <td>0</td>\n",
       "      <td>...</td>\n",
       "      <td>6463</td>\n",
       "      <td>43</td>\n",
       "      <td>359</td>\n",
       "      <td>5</td>\n",
       "      <td>4</td>\n",
       "      <td>326</td>\n",
       "      <td>753</td>\n",
       "      <td>364</td>\n",
       "      <td>17</td>\n",
       "      <td>12</td>\n",
       "    </tr>\n",
       "    <tr>\n",
       "      <th>8981</th>\n",
       "      <td>0</td>\n",
       "      <td>0</td>\n",
       "      <td>0</td>\n",
       "      <td>0</td>\n",
       "      <td>0</td>\n",
       "      <td>0</td>\n",
       "      <td>0</td>\n",
       "      <td>0</td>\n",
       "      <td>0</td>\n",
       "      <td>0</td>\n",
       "      <td>...</td>\n",
       "      <td>3994</td>\n",
       "      <td>8519</td>\n",
       "      <td>114</td>\n",
       "      <td>5758</td>\n",
       "      <td>1752</td>\n",
       "      <td>7</td>\n",
       "      <td>4</td>\n",
       "      <td>113</td>\n",
       "      <td>17</td>\n",
       "      <td>12</td>\n",
       "    </tr>\n",
       "  </tbody>\n",
       "</table>\n",
       "<p>8982 rows × 2376 columns</p>\n",
       "</div>"
      ],
      "text/plain": [
       "      0     1     2     3     4     5     6     7     8     9     ...  2366  \\\n",
       "0        0     0     0     0     0     0     0     0     0     0  ...    29   \n",
       "1        0     0     0     0     0     0     0     0     0     0  ...     7   \n",
       "2        0     0     0     0     0     0     0     0     0     0  ...    11   \n",
       "3        0     0     0     0     0     0     0     0     0     0  ...    64   \n",
       "4        0     0     0     0     0     0     0     0     0     0  ...   303   \n",
       "...    ...   ...   ...   ...   ...   ...   ...   ...   ...   ...  ...   ...   \n",
       "8977     0     0     0     0     0     0     0     0     0     0  ...  1130   \n",
       "8978     0     0     0     0     0     0     0     0     0     0  ...     4   \n",
       "8979     0     0     0     0     0     0     0     0     0     0  ...    16   \n",
       "8980     0     0     0     0     0     0     0     0     0     0  ...  6463   \n",
       "8981     0     0     0     0     0     0     0     0     0     0  ...  3994   \n",
       "\n",
       "      2367   2368  2369  2370  2371  2372  2373  2374  2375  \n",
       "0      209     30    32   132     6   109    15    17    12  \n",
       "1       48     34   191    44    35  1795   505    17    12  \n",
       "2        9  26503    81     5   102    59    11    17    12  \n",
       "3       10   2281   455     5  7003   125   222    17    12  \n",
       "4      163     16    64   772    13    94   156    17    12  \n",
       "...    ...    ...   ...   ...   ...   ...   ...   ...   ...  \n",
       "8977     6    592     4  9061  3009   172   642    17    12  \n",
       "8978    99    327     5    52    29    36     8    17    12  \n",
       "8979   369    646     6  1076     7   124   407    17    12  \n",
       "8980    43    359     5     4   326   753   364    17    12  \n",
       "8981  8519    114  5758  1752     7     4   113    17    12  \n",
       "\n",
       "[8982 rows x 2376 columns]"
      ]
     },
     "execution_count": 18,
     "metadata": {},
     "output_type": "execute_result"
    }
   ],
   "source": [
    "new"
   ]
  },
  {
   "cell_type": "code",
   "execution_count": 26,
   "metadata": {},
   "outputs": [
    {
     "data": {
      "text/plain": [
       "139"
      ]
     },
     "execution_count": 26,
     "metadata": {},
     "output_type": "execute_result"
    }
   ],
   "source": [
    "len(X_train[2])"
   ]
  },
  {
   "cell_type": "code",
   "execution_count": 17,
   "metadata": {},
   "outputs": [
    {
     "data": {
      "text/plain": [
       "numpy.ndarray"
      ]
     },
     "execution_count": 17,
     "metadata": {},
     "output_type": "execute_result"
    }
   ],
   "source": [
    "type(X_train)"
   ]
  },
  {
   "cell_type": "code",
   "execution_count": 27,
   "metadata": {},
   "outputs": [
    {
     "data": {
      "text/plain": [
       "list"
      ]
     },
     "execution_count": 27,
     "metadata": {},
     "output_type": "execute_result"
    }
   ],
   "source": [
    "type(X_train[0])"
   ]
  },
  {
   "cell_type": "code",
   "execution_count": 16,
   "metadata": {},
   "outputs": [
    {
     "data": {
      "text/plain": [
       "array([list([1, 2, 2, 8, 43, 10, 2, 5, 25, 2, 2, 5, 2, 2, 16, 2, 2, 90, 67, 7, 89, 5, 19, 2, 6, 19, 2, 15, 90, 67, 84, 22, 2, 26, 7, 48, 4, 49, 8, 2, 39, 2, 2, 6, 2, 6, 83, 11, 15, 22, 2, 11, 15, 7, 48, 9, 2, 2, 2, 6, 2, 6, 2, 11, 15, 22, 2, 44, 11, 15, 16, 8, 2, 2, 90, 67, 52, 29, 2, 30, 32, 2, 6, 2, 15, 17, 12]),\n",
       "       list([1, 2, 2, 2, 2, 56, 2, 2, 9, 56, 2, 2, 81, 5, 2, 57, 2, 2, 2, 20, 2, 7, 2, 49, 2, 2, 2, 2, 2, 2, 8, 7, 10, 2, 16, 2, 2, 2, 2, 5, 4, 2, 2, 2, 2, 2, 7, 48, 34, 2, 44, 35, 2, 2, 17, 12]),\n",
       "       list([1, 53, 12, 2, 15, 14, 2, 26, 53, 2, 32, 2, 15, 14, 2, 26, 39, 2, 70, 11, 14, 12, 2, 18, 2, 2, 2, 70, 11, 14, 2, 32, 11, 29, 53, 44, 2, 15, 14, 19, 2, 15, 53, 2, 47, 2, 15, 14, 19, 2, 15, 39, 2, 32, 11, 14, 2, 72, 11, 2, 2, 2, 44, 11, 14, 2, 19, 11, 2, 2, 90, 67, 2, 4, 78, 13, 68, 2, 2, 2, 59, 89, 90, 67, 2, 55, 2, 92, 2, 80, 2, 46, 2, 2, 13, 4, 2, 48, 2, 2, 5, 2, 5, 2, 7, 2, 81, 5, 2, 11, 15, 9, 2, 2, 5, 47, 2, 18, 2, 2, 5, 2, 7, 2, 2, 71, 5, 2, 63, 11, 9, 2, 81, 5, 2, 59, 11, 17, 12]),\n",
       "       ...,\n",
       "       list([1, 2, 2, 2, 81, 8, 16, 2, 10, 2, 2, 2, 31, 56, 2, 2, 9, 2, 71, 9, 2, 2, 2, 2, 2, 2, 2, 2, 2, 2, 4, 49, 8, 4, 2, 2, 33, 2, 9, 2, 2, 2, 2, 9, 2, 22, 2, 2, 2, 83, 35, 15, 2, 6, 57, 2, 7, 4, 2, 2, 5, 2, 2, 2, 4, 49, 8, 16, 2, 2, 6, 2, 7, 2, 2, 17, 12]),\n",
       "       list([1, 53, 46, 2, 26, 14, 74, 2, 26, 39, 46, 2, 2, 18, 14, 74, 2, 2, 18, 88, 2, 72, 11, 14, 2, 32, 11, 2, 2, 89, 39, 46, 2, 10, 2, 2, 5, 2, 44, 11, 15, 22, 2, 9, 42, 92, 2, 2, 5, 69, 2, 11, 15, 22, 2, 2, 2, 2, 48, 39, 74, 2, 10, 2, 2, 5, 61, 32, 11, 15, 21, 4, 2, 5, 2, 2, 42, 92, 2, 46, 19, 2, 11, 15, 22, 2, 2, 9, 42, 92, 2, 2, 5, 59, 61, 11, 15, 22, 10, 2, 7, 2, 2, 2, 2, 6, 2, 2, 2, 2, 43, 2, 5, 4, 2, 2, 2, 17, 12]),\n",
       "       list([1, 2, 2, 91, 2, 2, 2, 21, 4, 2, 76, 7, 4, 2, 2, 2, 2, 2, 2, 9, 2, 2, 8, 7, 10, 76, 2, 51, 4, 2, 8, 2, 91, 2, 2, 2, 7, 2, 2, 6, 2, 21, 2, 2, 2, 2, 6, 2, 4, 2, 2, 7, 65, 87, 2, 10, 2, 2, 2, 9, 21, 2, 16, 2, 24, 4, 76, 2, 30, 2, 2, 2, 8, 4, 60, 8, 4, 2, 2, 40, 2, 2, 2, 2, 2, 2, 9, 24, 2, 2, 2, 2, 9, 4, 2, 2, 2, 2, 2, 2, 7, 4, 2, 17, 12])],\n",
       "      dtype=object)"
      ]
     },
     "execution_count": 16,
     "metadata": {},
     "output_type": "execute_result"
    }
   ],
   "source": [
    "X_train"
   ]
  },
  {
   "cell_type": "code",
   "execution_count": 21,
   "metadata": {},
   "outputs": [
    {
     "data": {
      "text/plain": [
       "array([ 3,  4,  3, ..., 25,  3, 25], dtype=int64)"
      ]
     },
     "execution_count": 21,
     "metadata": {},
     "output_type": "execute_result"
    }
   ],
   "source": [
    "Y_train"
   ]
  },
  {
   "cell_type": "code",
   "execution_count": 22,
   "metadata": {},
   "outputs": [
    {
     "data": {
      "text/plain": [
       "8982"
      ]
     },
     "execution_count": 22,
     "metadata": {},
     "output_type": "execute_result"
    }
   ],
   "source": [
    "len(Y_train)"
   ]
  },
  {
   "cell_type": "code",
   "execution_count": 19,
   "metadata": {},
   "outputs": [],
   "source": [
    "temp = to_categorical(Y_train)"
   ]
  },
  {
   "cell_type": "code",
   "execution_count": 23,
   "metadata": {},
   "outputs": [
    {
     "data": {
      "text/plain": [
       "8982"
      ]
     },
     "execution_count": 23,
     "metadata": {},
     "output_type": "execute_result"
    }
   ],
   "source": [
    "len(temp)"
   ]
  },
  {
   "cell_type": "code",
   "execution_count": null,
   "metadata": {},
   "outputs": [],
   "source": []
  }
 ],
 "metadata": {
  "kernelspec": {
   "display_name": "Python 3 (ipykernel)",
   "language": "python",
   "name": "python3"
  },
  "language_info": {
   "codemirror_mode": {
    "name": "ipython",
    "version": 3
   },
   "file_extension": ".py",
   "mimetype": "text/x-python",
   "name": "python",
   "nbconvert_exporter": "python",
   "pygments_lexer": "ipython3",
   "version": "3.10.7"
  }
 },
 "nbformat": 4,
 "nbformat_minor": 2
}
