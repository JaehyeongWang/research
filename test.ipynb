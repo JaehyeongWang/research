{
 "cells": [
  {
   "cell_type": "code",
   "execution_count": null,
   "metadata": {},
   "outputs": [],
   "source": [
    "# Create an empty list to store financial data of companies\n",
    "financial_data = []\n",
    "\n",
    "# Loop through each row in the table and get the stock ticker\n",
    "for row in table.find_all('tr')[1:]:\n",
    "    ticker = row.find_all('td')[1].text.strip()\n",
    "\n",
    "    # Company's financial information URL\n",
    "    financial_url = f'https://finance.yahoo.com/quote/{ticker}/key-statistics'\n",
    "\n",
    "    # Requests to get the HTML code\n",
    "    financial_response = requests.get(financial_url)\n",
    "    financial_html = financial_response.text\n",
    "\n",
    "    # BeautifulSoup to parse the HTML code\n",
    "    financial_soup = BeautifulSoup(financial_html, 'html.parser')\n",
    "\n",
    "    # Find the table with financial information\n",
    "    financial_table = financial_soup.find('table', {'class': 'W(100%) Bdcl(c)'})\n",
    "\n",
    "    # Create a dictionary to store financial information\n",
    "    financial_dict = {'ticker': ticker}\n",
    "\n",
    "    # Loop through each row in the table and get the financial data\n",
    "    for financial_row in financial_table.find_all('tr'):\n",
    "        try:\n",
    "            category = financial_row.find_all('td')[0].text.strip()\n",
    "            value = financial_row.find_all('td')[1].text.strip()\n",
    "            financial_dict[category] = value\n",
    "        except:\n",
    "            pass\n",
    "\n",
    "    # Append the financial information to the list\n",
    "    financial_data.append(financial_dict)\n",
    "\n",
    "# Print the financial information of the first company in the list\n",
    "print(financial_data[0])"
   ]
  }
 ],
 "metadata": {
  "language_info": {
   "name": "python"
  },
  "orig_nbformat": 4
 },
 "nbformat": 4,
 "nbformat_minor": 2
}
