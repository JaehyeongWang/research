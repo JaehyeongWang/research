{
 "cells": [
  {
   "cell_type": "code",
   "execution_count": 19,
   "metadata": {},
   "outputs": [],
   "source": [
    "import os\n",
    "import pandas as pd\n",
    "from sklearn.preprocessing import MinMaxScaler\n",
    "import numpy as np\n",
    "from tensorflow.keras.models import load_model\n",
    "from tensorflow.keras.preprocessing.sequence import pad_sequences"
   ]
  },
  {
   "cell_type": "code",
   "execution_count": 3,
   "metadata": {},
   "outputs": [],
   "source": [
    "scaler = MinMaxScaler()\n",
    "\n",
    "def preprocessing(folder_name):\n",
    "   # set file path\n",
    "    folder_path = f'{folder_name}'\n",
    "\n",
    "    # load file name in folder\n",
    "    file_names = os.listdir(folder_path)\n",
    "    data_array = []\n",
    "    # data_list = []\n",
    "\n",
    "    for file in file_names:\n",
    "        # set file path\n",
    "        file_path = os.path.join(folder_path, file)\n",
    "        \n",
    "        # load csv file as dataframe\n",
    "        df = pd.read_csv(file_path)\n",
    "\n",
    "        #preprocessing column\n",
    "        df = df.drop(['Date','Open','Close'], axis=1)\n",
    "        df = df.rename(columns={'Adj Close':'Close'})\n",
    "        df['Diff'] = df['High'] - df['Low']\n",
    "        df = df.drop(['High','Low'], axis=1)\n",
    "\n",
    "        #change 0 value to 0.000001\n",
    "        df = df.replace(0, 0.000001)\n",
    "\n",
    "        #log transform\n",
    "        df = np.log(df)\n",
    "\n",
    "        #using minmaxscaler of each column in df\n",
    "        df[['Close','Volume','Diff']] = scaler.fit_transform(df[['Close','Volume','Diff']])\n",
    "\n",
    "        #insert list to array\n",
    "        data_array.append(df)\n",
    "\n",
    "    #list to numpy array and return\n",
    "    return np.array(data_array)\n",
    "        \n",
    "        # save dataframe in variable without '.csv' extension\n",
    "        # var_name = file.replace('.csv', '')\n",
    "        # globals()[var_name] = df\n",
    "        # data_list.append(var_name)"
   ]
  },
  {
   "cell_type": "code",
   "execution_count": 69,
   "metadata": {},
   "outputs": [
    {
     "name": "stderr",
     "output_type": "stream",
     "text": [
      "C:\\Users\\jahye\\AppData\\Local\\Temp\\ipykernel_34620\\1698253694.py:38: VisibleDeprecationWarning: Creating an ndarray from ragged nested sequences (which is a list-or-tuple of lists-or-tuples-or ndarrays with different lengths or shapes) is deprecated. If you meant to do this, you must specify 'dtype=object' when creating the ndarray.\n",
      "  return np.array(data_array)\n"
     ]
    }
   ],
   "source": [
    "xValues = preprocessing('test')"
   ]
  },
  {
   "cell_type": "code",
   "execution_count": 70,
   "metadata": {},
   "outputs": [
    {
     "data": {
      "text/plain": [
       "1258"
      ]
     },
     "execution_count": 70,
     "metadata": {},
     "output_type": "execute_result"
    }
   ],
   "source": [
    "x_test = pad_sequences(xValues, dtype='float32')\n",
    "len(x_test[0])"
   ]
  },
  {
   "cell_type": "code",
   "execution_count": 71,
   "metadata": {},
   "outputs": [],
   "source": [
    "model=load_model('best_model (2).h5')"
   ]
  },
  {
   "cell_type": "code",
   "execution_count": 72,
   "metadata": {},
   "outputs": [
    {
     "name": "stdout",
     "output_type": "stream",
     "text": [
      "1/1 [==============================] - 1s 721ms/step\n"
     ]
    }
   ],
   "source": [
    "result = model.predict(x_test)"
   ]
  },
  {
   "cell_type": "code",
   "execution_count": 73,
   "metadata": {},
   "outputs": [
    {
     "data": {
      "text/plain": [
       "array([[1.2690082e-07, 9.9999988e-01],\n",
       "       [9.9999249e-01, 7.4869504e-06],\n",
       "       [9.9996579e-01, 3.4178283e-05],\n",
       "       [9.5706207e-01, 4.2937919e-02],\n",
       "       [9.3810731e-01, 6.1892647e-02],\n",
       "       [9.9999857e-01, 1.4631446e-06]], dtype=float32)"
      ]
     },
     "execution_count": 73,
     "metadata": {},
     "output_type": "execute_result"
    }
   ],
   "source": [
    "# [0]: growth stock , [1]: value stock\n",
    "result"
   ]
  },
  {
   "cell_type": "code",
   "execution_count": null,
   "metadata": {},
   "outputs": [],
   "source": []
  }
 ],
 "metadata": {
  "kernelspec": {
   "display_name": "Python 3",
   "language": "python",
   "name": "python3"
  },
  "language_info": {
   "codemirror_mode": {
    "name": "ipython",
    "version": 3
   },
   "file_extension": ".py",
   "mimetype": "text/x-python",
   "name": "python",
   "nbconvert_exporter": "python",
   "pygments_lexer": "ipython3",
   "version": "3.10.7"
  },
  "orig_nbformat": 4
 },
 "nbformat": 4,
 "nbformat_minor": 2
}
