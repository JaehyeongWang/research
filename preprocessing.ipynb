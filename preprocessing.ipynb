{
 "cells": [
  {
   "cell_type": "code",
   "execution_count": 1,
   "metadata": {},
   "outputs": [],
   "source": [
    "#call library\n",
    "\n",
    "import os\n",
    "import pandas as pd"
   ]
  },
  {
   "cell_type": "code",
   "execution_count": 2,
   "metadata": {},
   "outputs": [
    {
     "name": "stdout",
     "output_type": "stream",
     "text": [
      "<_io.TextIOWrapper name='C:/Users/jahye/Desktop/research/growth1\\\\LPLA.csv' mode='r' encoding='cp949'>\n",
      "<_io.TextIOWrapper name='C:/Users/jahye/Desktop/research/growth1\\\\WSC.csv' mode='r' encoding='cp949'>\n"
     ]
    }
   ],
   "source": [
    "folder_path_growth = \"C:/Users/jahye/Desktop/research/growth1\"\n",
    "for filename in os.listdir(folder_path_growth):\n",
    "    file_path = os.path.join(folder_path_growth, filename)\n",
    "    if os.path.isfile(file_path):\n",
    "        with open(file_path, \"r\") as f:\n",
    "            print(f)"
   ]
  },
  {
   "cell_type": "code",
   "execution_count": null,
   "metadata": {},
   "outputs": [],
   "source": []
  }
 ],
 "metadata": {
  "kernelspec": {
   "display_name": "Python 3",
   "language": "python",
   "name": "python3"
  },
  "language_info": {
   "codemirror_mode": {
    "name": "ipython",
    "version": 3
   },
   "file_extension": ".py",
   "mimetype": "text/x-python",
   "name": "python",
   "nbconvert_exporter": "python",
   "pygments_lexer": "ipython3",
   "version": "3.10.7"
  },
  "orig_nbformat": 4
 },
 "nbformat": 4,
 "nbformat_minor": 2
}
